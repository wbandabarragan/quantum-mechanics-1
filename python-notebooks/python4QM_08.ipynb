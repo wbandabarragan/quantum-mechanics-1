{
  "cells": [
    {
      "cell_type": "markdown",
      "metadata": {
        "id": "view-in-github",
        "colab_type": "text"
      },
      "source": [
        "<a href=\"https://colab.research.google.com/github/wbandabarragan/quantum-mechanics-1/blob/main/python-notebooks/python4QM_08.ipynb\" target=\"_parent\"><img src=\"https://colab.research.google.com/assets/colab-badge.svg\" alt=\"Open In Colab\"/></a>"
      ]
    },
    {
      "cell_type": "markdown",
      "id": "db574934",
      "metadata": {
        "id": "db574934"
      },
      "source": [
        "# Tutorial 8: Python for Quantum Mechanics\n",
        "\n",
        "## Exercise: Find probabilities\n",
        "\n",
        "$$\\newcommand{\\ket}[1]{\\left|{#1}\\right\\rangle}$$\n",
        "$$\\newcommand{\\bra}[1]{\\left\\langle{#1}\\right|}$$\n",
        "$$\\newcommand{\\braket}[2]{\\left\\langle{#1}\\middle|{#2}\\right\\rangle}$$\n",
        "\n",
        "Consider a quantum system in a state, $\\ket{\\Psi}$:\n",
        "\n",
        "$\\Psi = \\frac{1}{\\sqrt{3}}\\left[\\begin{array}{@{}c@{}}\n",
        "    i \\\\\n",
        "    -i \\\\\n",
        "    i\n",
        "    \\end{array} \\right]$\n",
        "    \n",
        "The Hamiltonian is represented by the matrix shown below:\n",
        "\n",
        "\n",
        "$\\hat{H} = \\left[\\begin{array}{@{ }c@{\\kern2em} c@{\\kern2em} c@{ }}\n",
        "2 & 1 & 0\\\\\n",
        "1 & 2 & 0\\\\\n",
        "0 & 0 & 3\n",
        "\\end{array} \\right]$\n",
        "\n",
        "(a) Determine the eigenvalues and eigenvectors of $\\hat{H}$. What do the eigenvalues represent?\n",
        "\n",
        "\n",
        "(b) Which eigenvalue of $\\hat{H}$ is most likely to emerge from a measurement?\n",
        "\n",
        "\n",
        "(c) Find $\\langle H \\rangle$, $\\langle H^2 \\rangle$, and $\\sigma_H$.\n"
      ]
    },
    {
      "cell_type": "code",
      "source": [],
      "metadata": {
        "id": "jOD7LdaNLWtD"
      },
      "id": "jOD7LdaNLWtD",
      "execution_count": null,
      "outputs": []
    },
    {
      "cell_type": "markdown",
      "source": [
        "## Exercise: Expectation value of an operator\n",
        "\n",
        "Consider a normalized quantum state:\n",
        "\n",
        "$$\n",
        "|\\Psi\\rangle = \\frac{1}{\\sqrt{2}} \\begin{pmatrix} 1 \\\\ i \\end{pmatrix},\n",
        "$$\n",
        "\n",
        "and a Hermitian operator (observable):\n",
        "\n",
        "$$\n",
        "\\hat{A} = \\begin{pmatrix} 1 & 2 \\\\ 2 & 3 \\end{pmatrix}.\n",
        "$$\n",
        "\n",
        "1.  The expectation value $\\langle A \\rangle = \\langle \\Psi | \\hat{A} | \\Psi \\rangle$\n",
        "\n",
        "2.  The expectation value $\\langle A^2 \\rangle = \\langle \\Psi | \\hat{A}^2 | \\Psi \\rangle$\n",
        "\n",
        "3.  The uncertainty $\\sigma_A = \\sqrt{\\langle A^2 \\rangle - \\langle A \\rangle^2}$"
      ],
      "metadata": {
        "id": "TXMcPOTzNF_8"
      },
      "id": "TXMcPOTzNF_8"
    },
    {
      "cell_type": "code",
      "source": [],
      "metadata": {
        "id": "lCN4nXpQNcZq"
      },
      "id": "lCN4nXpQNcZq",
      "execution_count": null,
      "outputs": []
    }
  ],
  "metadata": {
    "kernelspec": {
      "display_name": "Python 3 (ipykernel)",
      "language": "python",
      "name": "python3"
    },
    "language_info": {
      "codemirror_mode": {
        "name": "ipython",
        "version": 3
      },
      "file_extension": ".py",
      "mimetype": "text/x-python",
      "name": "python",
      "nbconvert_exporter": "python",
      "pygments_lexer": "ipython3",
      "version": "3.7.16"
    },
    "colab": {
      "provenance": [],
      "include_colab_link": true
    }
  },
  "nbformat": 4,
  "nbformat_minor": 5
}