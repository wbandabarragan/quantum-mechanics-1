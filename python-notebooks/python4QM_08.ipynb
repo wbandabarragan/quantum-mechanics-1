{
  "cells": [
    {
      "cell_type": "markdown",
      "metadata": {
        "id": "view-in-github",
        "colab_type": "text"
      },
      "source": [
        "<a href=\"https://colab.research.google.com/github/wbandabarragan/quantum-mechanics-1/blob/main/python-notebooks/python4QM_08.ipynb\" target=\"_parent\"><img src=\"https://colab.research.google.com/assets/colab-badge.svg\" alt=\"Open In Colab\"/></a>"
      ]
    },
    {
      "cell_type": "markdown",
      "id": "db574934",
      "metadata": {
        "id": "db574934"
      },
      "source": [
        "# Tutorial 8: Python for Quantum Mechanics\n",
        "\n",
        "## Exercise: Find probabilities\n",
        "\n",
        "$$\\newcommand{\\ket}[1]{\\left|{#1}\\right\\rangle}$$\n",
        "$$\\newcommand{\\bra}[1]{\\left\\langle{#1}\\right|}$$\n",
        "$$\\newcommand{\\braket}[2]{\\left\\langle{#1}\\middle|{#2}\\right\\rangle}$$\n",
        "\n",
        "Consider a quantum system in a state, $\\ket{\\Psi}$:\n",
        "\n",
        "$\\Psi = \\frac{1}{\\sqrt{3}}\\left[\\begin{array}{@{}c@{}}\n",
        "    +i \\\\\n",
        "    -i \\\\\n",
        "    +i\n",
        "    \\end{array} \\right]$\n",
        "    \n",
        "The Hamiltonian is represented by the matrix shown below:\n",
        "\n",
        "\n",
        "$\\hat{H} = \\left[\\begin{array}{@{ }c@{\\kern2em} c@{\\kern2em} c@{ }}\n",
        "2 & 1 & 0\\\\\n",
        "1 & 2 & 0\\\\\n",
        "0 & 0 & 3\n",
        "\\end{array} \\right]$\n",
        "\n",
        "(a) Determine the eigenvalues and eigenvectors of $\\hat{H}$. What do the eigenvalues represent?\n",
        "\n",
        "\n",
        "(b) Which eigenvalue of $\\hat{H}$ is most likely to emerge from a measurement? Hint: Calculate probabilities.\n",
        "\n",
        "\n",
        "(c) Find $\\langle H \\rangle$, $\\langle H^2 \\rangle$, and $\\sigma_H$.\n"
      ]
    },
    {
      "cell_type": "markdown",
      "source": [
        "### (a) Determine the eigenvalues and eigenvectors of $\\hat{H}$. What do the eigenvalues represent?\n",
        "\n",
        "\n",
        "$\\hat{H} = \\left[\\begin{array}{@{ }c@{\\kern2em} c@{\\kern2em} c@{ }}\n",
        "2 & 1 & 0\\\\\n",
        "1 & 2 & 0\\\\\n",
        "0 & 0 & 3\n",
        "\\end{array} \\right]$\n",
        "\n",
        "#### Ref: https://numpy.org/doc/stable/reference/generated/numpy.linalg.eig.html#"
      ],
      "metadata": {
        "id": "gMxVjdJGQ1YY"
      },
      "id": "gMxVjdJGQ1YY"
    },
    {
      "cell_type": "code",
      "source": [
        "# Importing libraries\n",
        "import numpy as np"
      ],
      "metadata": {
        "id": "Hp-eg4GVQ0uL"
      },
      "id": "Hp-eg4GVQ0uL",
      "execution_count": 1,
      "outputs": []
    },
    {
      "cell_type": "code",
      "source": [
        "# Define Hamiltonian matrix:\n",
        "\n",
        "h_matrix = np.array([[2., 1., 0.], [1., 2., 0.], [0., 0., 3.]])\n",
        "\n",
        "print(\"Hamiltonian :\\n\",  h_matrix)"
      ],
      "metadata": {
        "colab": {
          "base_uri": "https://localhost:8080/"
        },
        "id": "Aa8FA8aSQ0wp",
        "outputId": "b80bc609-5e75-48b7-a12e-3673281c1c3e"
      },
      "id": "Aa8FA8aSQ0wp",
      "execution_count": 4,
      "outputs": [
        {
          "output_type": "stream",
          "name": "stdout",
          "text": [
            "Hamiltonian :\n",
            " [[2. 1. 0.]\n",
            " [1. 2. 0.]\n",
            " [0. 0. 3.]]\n"
          ]
        }
      ]
    },
    {
      "cell_type": "code",
      "source": [
        "# Safe checks:\n",
        "print(h_matrix.shape, h_matrix.size)"
      ],
      "metadata": {
        "colab": {
          "base_uri": "https://localhost:8080/"
        },
        "id": "vgOx6KjoQ0zI",
        "outputId": "5f841c23-cd1c-4f70-cc01-9ae4cb2f0948"
      },
      "id": "vgOx6KjoQ0zI",
      "execution_count": 6,
      "outputs": [
        {
          "output_type": "stream",
          "name": "stdout",
          "text": [
            "(3, 3) 9\n"
          ]
        }
      ]
    },
    {
      "cell_type": "code",
      "source": [
        "# Compute the eigenvalues and corresponding eigenvectors\n",
        "\n",
        "e_values, e_vectors = np.linalg.eig(h_matrix)"
      ],
      "metadata": {
        "id": "jOD7LdaNLWtD"
      },
      "id": "jOD7LdaNLWtD",
      "execution_count": 8,
      "outputs": []
    },
    {
      "cell_type": "code",
      "source": [
        "# Print the results\n",
        "print(\"Energy eigenvalues: \\n\", e_values)\n",
        "\n",
        "print(\"E1 = \", e_values[0])\n",
        "print(\"E2 = \", e_values[1])\n",
        "print(\"E3 = \", e_values[2])"
      ],
      "metadata": {
        "colab": {
          "base_uri": "https://localhost:8080/"
        },
        "id": "eIMcv8E-Su1p",
        "outputId": "52db26db-0886-4d10-f839-eae3a54d5839"
      },
      "id": "eIMcv8E-Su1p",
      "execution_count": 15,
      "outputs": [
        {
          "output_type": "stream",
          "name": "stdout",
          "text": [
            "Energy eigenvalues: \n",
            " [3. 1. 3.]\n",
            "E1 =  3.0\n",
            "E2 =  1.0\n",
            "E3 =  3.0\n"
          ]
        }
      ]
    },
    {
      "cell_type": "markdown",
      "source": [
        "### What do the eigenvalues represent?\n",
        "\n",
        "They represent possible values for measurements of E.\n",
        "\n",
        "We see quantisation ${E_n}$.\n",
        "\n",
        "We have degenerate states."
      ],
      "metadata": {
        "id": "wr5DqLsiTnSK"
      },
      "id": "wr5DqLsiTnSK"
    },
    {
      "cell_type": "code",
      "source": [
        "# Print the results\n",
        "print(\"Energy eigenvectors: \\n\", e_vectors)\n",
        "\n",
        "print(\"psi1 = \", e_vectors[0])\n",
        "print(\"psi2 = \", e_vectors[1])\n",
        "print(\"psi3 = \", e_vectors[2])"
      ],
      "metadata": {
        "colab": {
          "base_uri": "https://localhost:8080/"
        },
        "id": "E33nafb3Su4f",
        "outputId": "e9108795-bac2-4d94-b4a7-33b392f2beff"
      },
      "id": "E33nafb3Su4f",
      "execution_count": 16,
      "outputs": [
        {
          "output_type": "stream",
          "name": "stdout",
          "text": [
            "Energy eigenvectors: \n",
            " [[ 0.70710678 -0.70710678  0.        ]\n",
            " [ 0.70710678  0.70710678  0.        ]\n",
            " [ 0.          0.          1.        ]]\n",
            "psi1 =  [ 0.70710678 -0.70710678  0.        ]\n",
            "psi2 =  [0.70710678 0.70710678 0.        ]\n",
            "psi3 =  [0. 0. 1.]\n"
          ]
        }
      ]
    },
    {
      "cell_type": "code",
      "source": [
        "#float(np.sqrt(2)/2)"
      ],
      "metadata": {
        "id": "sla00KajSu7v"
      },
      "id": "sla00KajSu7v",
      "execution_count": 20,
      "outputs": []
    },
    {
      "cell_type": "code",
      "source": [
        "# Print the results\n",
        "print(\"E1 = \", e_values[0], \", psi1 = \", e_vectors[0])\n",
        "print(\"\\n\")\n",
        "print(\"E2 = \", e_values[1], \", psi2 = \", e_vectors[1])\n",
        "print(\"\\n\")\n",
        "print(\"E3 = \", e_values[2], \", psi3 = \", e_vectors[2])"
      ],
      "metadata": {
        "colab": {
          "base_uri": "https://localhost:8080/"
        },
        "id": "XkffioZqUjLw",
        "outputId": "d3540e8e-4c21-41cd-a27a-904a462d860b"
      },
      "id": "XkffioZqUjLw",
      "execution_count": 26,
      "outputs": [
        {
          "output_type": "stream",
          "name": "stdout",
          "text": [
            "E1 =  3.0 , psi1 =  [ 0.70710678 -0.70710678  0.        ]\n",
            "\n",
            "\n",
            "E2 =  1.0 , psi2 =  [0.70710678 0.70710678 0.        ]\n",
            "\n",
            "\n",
            "E3 =  3.0 , psi3 =  [0. 0. 1.]\n"
          ]
        }
      ]
    },
    {
      "cell_type": "code",
      "source": [
        "# Safe check: orthogonality\n",
        "\n",
        "d12 = np.dot(e_vectors[0], e_vectors[1])\n",
        "d13 = np.dot(e_vectors[0], e_vectors[2]) # -> Share the same E_1 = E_3 = 3\n",
        "d23 = np.dot(e_vectors[1], e_vectors[2])\n",
        "\n",
        "print(d12, d13, d23)"
      ],
      "metadata": {
        "colab": {
          "base_uri": "https://localhost:8080/"
        },
        "id": "JO6A6oBPU6-B",
        "outputId": "16fd0624-e07f-486e-ee73-71409bc1fb4a"
      },
      "id": "JO6A6oBPU6-B",
      "execution_count": 33,
      "outputs": [
        {
          "output_type": "stream",
          "name": "stdout",
          "text": [
            "0.0 0.0 0.0\n"
          ]
        }
      ]
    },
    {
      "cell_type": "code",
      "source": [
        "# Safe check: normalisation\n",
        "\n",
        "n11 = np.dot(e_vectors[0], e_vectors[0])\n",
        "n22 = np.dot(e_vectors[1], e_vectors[1])\n",
        "n33 = np.dot(e_vectors[2], e_vectors[2])\n",
        "\n",
        "print(round(n11, 5), round(n22, 5), round(n33, 5))"
      ],
      "metadata": {
        "colab": {
          "base_uri": "https://localhost:8080/"
        },
        "id": "_trt4L9UVkHu",
        "outputId": "e4369466-82a5-48d5-d5f3-51eb15cfeee3"
      },
      "id": "_trt4L9UVkHu",
      "execution_count": 34,
      "outputs": [
        {
          "output_type": "stream",
          "name": "stdout",
          "text": [
            "1.0 1.0 1.0\n"
          ]
        }
      ]
    },
    {
      "cell_type": "markdown",
      "source": [
        "### (b) Which eigenvalue of $\\hat{H}$ is most likely to emerge from a measurement? Hint: Calculate probabilities.\n",
        "\n",
        "$\\Psi = \\frac{1}{\\sqrt{3}}\\left[\\begin{array}{@{}c@{}}\n",
        "    +i \\\\\n",
        "    -i \\\\\n",
        "    +i\n",
        "    \\end{array} \\right]$\n",
        "\n",
        "Compute probabilities:\n",
        "\n",
        "$P (E_{\\rm n})= |\\langle v_{\\rm n}|\\Psi\\rangle|^2/|\\langle \\Psi|\\Psi\\rangle|^2$"
      ],
      "metadata": {
        "id": "_NKwanwXWvcw"
      },
      "id": "_NKwanwXWvcw"
    },
    {
      "cell_type": "code",
      "source": [
        "# Define psi, i = \\sqrt(-1) -> .j\n",
        "psi = np.array([+1.j/np.sqrt(3), -1.j/np.sqrt(3), +1.j/np.sqrt(3)])\n",
        "print(psi)\n",
        "\n",
        "# Safe check: normalised?\n",
        "\n",
        "# First way\n",
        "npp = abs(np.dot(psi, psi))\n",
        "\n",
        "print(\"Norm of psi: \" , round(npp.real, 5))\n",
        "\n",
        "# Second way -> norm\n",
        "print(\"Norm of psi: \" , np.linalg.norm(psi))"
      ],
      "metadata": {
        "colab": {
          "base_uri": "https://localhost:8080/"
        },
        "id": "h9a49rx4X4Q9",
        "outputId": "77c330aa-a775-4f7c-f8a6-fea8eeb6594a"
      },
      "id": "h9a49rx4X4Q9",
      "execution_count": 41,
      "outputs": [
        {
          "output_type": "stream",
          "name": "stdout",
          "text": [
            "[ 0.+0.57735027j -0.-0.57735027j  0.+0.57735027j]\n",
            "Norm of psi:  1.0\n",
            "Norm of psi:  1.0\n"
          ]
        }
      ]
    },
    {
      "cell_type": "markdown",
      "source": [
        " We see that $\\psi$ is normalised!"
      ],
      "metadata": {
        "id": "w-6_duwOY-vC"
      },
      "id": "w-6_duwOY-vC"
    },
    {
      "cell_type": "code",
      "source": [
        "# Get the probabilities\n",
        "\n",
        "prob_1 = np.abs(np.dot(e_vectors[0], psi)**2)\n",
        "prob_2 = np.abs(np.dot(e_vectors[1], psi)**2)\n",
        "prob_3 = np.abs(np.dot(e_vectors[2], psi)**2)\n",
        "\n",
        "print(\"Prob (E1) = \", round(prob_1, 5))\n",
        "print(\"\\n\")\n",
        "print(\"Prob (E2) = \", round(prob_2, 5))\n",
        "print(\"\\n\")\n",
        "print(\"Prob (E3) = \", round(prob_3, 5))"
      ],
      "metadata": {
        "colab": {
          "base_uri": "https://localhost:8080/"
        },
        "id": "zNXPEbgKWuw_",
        "outputId": "a0d9ade0-4665-4158-cd8f-eb9344476ac7"
      },
      "id": "zNXPEbgKWuw_",
      "execution_count": 46,
      "outputs": [
        {
          "output_type": "stream",
          "name": "stdout",
          "text": [
            "Prob (E1) =  0.66667\n",
            "\n",
            "\n",
            "Prob (E2) =  0.0\n",
            "\n",
            "\n",
            "Prob (E3) =  0.33333\n"
          ]
        }
      ]
    },
    {
      "cell_type": "markdown",
      "source": [
        "### Notes:\n",
        "\n",
        "- Answer: $E_1$ is most likely to emerge in measurement!\n",
        "\n",
        "- $E_2$ cannot emerge for the state:\n",
        "\n",
        "$\\Psi = \\frac{1}{\\sqrt{3}}\\left[\\begin{array}{@{}c@{}}\n",
        "    +i \\\\\n",
        "    -i \\\\\n",
        "    +i\n",
        "    \\end{array} \\right]$\n",
        "\n",
        "because of orthogonality $\\langle v_2|\\Psi\\rangle$."
      ],
      "metadata": {
        "id": "yHYik41ZanXS"
      },
      "id": "yHYik41ZanXS"
    },
    {
      "cell_type": "markdown",
      "source": [
        "### (c) Find $\\langle H \\rangle$, $\\langle H^2 \\rangle$, and $\\sigma_H$.\n",
        "\n",
        "#### Expectation values:\n",
        "\n",
        "$\\langle H \\rangle = \\int \\psi^* \\hat H \\psi dx = \\langle \\psi | \\hat H | \\psi\\rangle$\n",
        "\n",
        "\n",
        "$\\langle H^2 \\rangle = \\int \\psi^* H^2 \\psi dx = \\langle \\psi | H^2 | \\psi\\rangle$\n"
      ],
      "metadata": {
        "id": "CgM41rynboJC"
      },
      "id": "CgM41rynboJC"
    },
    {
      "cell_type": "code",
      "source": [
        "# Expectation value of H\n",
        "h_exp = abs(np.dot(np.dot(np.conjugate(psi), h_matrix), psi.T))\n",
        "\n",
        "print(\"Expectation value of H: \", round(h_exp, 5))\n",
        "print(\"\\n\")\n",
        "\n",
        "# Expectation value of H\n",
        "h_exp2 = abs(np.dot(np.dot(np.conjugate(psi), h_matrix @ h_matrix), psi.T))\n",
        "\n",
        "print(\"Expectation value of H: \", round(h_exp2, 5))"
      ],
      "metadata": {
        "colab": {
          "base_uri": "https://localhost:8080/"
        },
        "id": "uXu8Ir4Vbn8q",
        "outputId": "60913f53-1acb-4e4e-8823-d95e854bf24c"
      },
      "id": "uXu8Ir4Vbn8q",
      "execution_count": 53,
      "outputs": [
        {
          "output_type": "stream",
          "name": "stdout",
          "text": [
            "Expectation value of H:  1.66667\n",
            "\n",
            "\n",
            "Expectation value of H:  3.66667\n"
          ]
        }
      ]
    },
    {
      "cell_type": "markdown",
      "source": [
        "#### Energy uncertainty:\n",
        "\n",
        "$\\sigma_H = \\sqrt{\\langle H^2 \\rangle - \\langle H \\rangle^2}$"
      ],
      "metadata": {
        "id": "qJOqjHkdfELI"
      },
      "id": "qJOqjHkdfELI"
    },
    {
      "cell_type": "code",
      "source": [
        "# Uncertainty in H\n",
        "\n",
        "sigma_h = np.sqrt(h_exp2 - h_exp**2)\n",
        "\n",
        "print(\"Uncertainty in H: \", round(sigma_h, 5))"
      ],
      "metadata": {
        "colab": {
          "base_uri": "https://localhost:8080/"
        },
        "id": "mpWAOgzMWuzo",
        "outputId": "10ad2b86-4592-4809-fe06-d5b5f0a4a2b2"
      },
      "id": "mpWAOgzMWuzo",
      "execution_count": 55,
      "outputs": [
        {
          "output_type": "stream",
          "name": "stdout",
          "text": [
            "Uncertainty in H:  0.94281\n"
          ]
        }
      ]
    },
    {
      "cell_type": "markdown",
      "source": [
        "### Note:\n",
        "\n",
        "$\\Psi$ is not a stationary state."
      ],
      "metadata": {
        "id": "hp-EXFB7fYlg"
      },
      "id": "hp-EXFB7fYlg"
    },
    {
      "cell_type": "markdown",
      "source": [
        "## Exercise: Expectation value of an operator\n",
        "\n",
        "Consider a normalized quantum state:\n",
        "\n",
        "$$\n",
        "|\\Psi\\rangle = \\frac{1}{\\sqrt{2}} \\begin{pmatrix} 1 \\\\ i \\end{pmatrix},\n",
        "$$\n",
        "\n",
        "and a Hermitian operator (observable):\n",
        "\n",
        "$$\n",
        "\\hat{A} = \\begin{pmatrix} 1 & 2 \\\\ 2 & 3 \\end{pmatrix}.\n",
        "$$\n",
        "\n",
        "1. Is $A$ Hermitian?\n",
        "\n",
        "2.  The expectation value $\\langle A \\rangle = \\langle \\Psi | \\hat{A} | \\Psi \\rangle$\n",
        "\n",
        "3.  The expectation value $\\langle A^2 \\rangle = \\langle \\Psi | \\hat{A}^2 | \\Psi \\rangle$\n",
        "\n",
        "4.  The uncertainty $\\sigma_A = \\sqrt{\\langle A^2 \\rangle - \\langle A \\rangle^2}$"
      ],
      "metadata": {
        "id": "TXMcPOTzNF_8"
      },
      "id": "TXMcPOTzNF_8"
    },
    {
      "cell_type": "markdown",
      "source": [
        "### 1. Is $A$ Hermitian?"
      ],
      "metadata": {
        "id": "EdXG6umNfvnE"
      },
      "id": "EdXG6umNfvnE"
    },
    {
      "cell_type": "code",
      "source": [
        "# Define the matrix A\n",
        "\n",
        "a_matrix = np.array([[1, 2], [2, 3]])\n",
        "\n",
        "print(\"A = \\n\", a_matrix)\n",
        "\n",
        "print(a_matrix.shape)"
      ],
      "metadata": {
        "id": "lCN4nXpQNcZq",
        "colab": {
          "base_uri": "https://localhost:8080/"
        },
        "outputId": "dd4e666f-7c40-4e42-91a4-a0d99b269b19"
      },
      "id": "lCN4nXpQNcZq",
      "execution_count": 60,
      "outputs": [
        {
          "output_type": "stream",
          "name": "stdout",
          "text": [
            "A = \n",
            " [[1 2]\n",
            " [2 3]]\n",
            "(2, 2)\n"
          ]
        }
      ]
    },
    {
      "cell_type": "code",
      "source": [
        "# Conjugate of the matrix\n",
        "a_conj = a_matrix.conj()\n",
        "\n",
        "a_dag  = a_conj.T\n",
        "print(a_dag)"
      ],
      "metadata": {
        "colab": {
          "base_uri": "https://localhost:8080/"
        },
        "id": "u5z-xD5lf4PV",
        "outputId": "d789fb21-7a81-431a-825c-3b8b624ba7e2"
      },
      "id": "u5z-xD5lf4PV",
      "execution_count": 62,
      "outputs": [
        {
          "output_type": "stream",
          "name": "stdout",
          "text": [
            "[[1 2]\n",
            " [2 3]]\n"
          ]
        }
      ]
    },
    {
      "cell_type": "markdown",
      "source": [
        "### Compare matrix elements with ``np.allclose``\n",
        "\n",
        "https://numpy.org/doc/stable/reference/generated/numpy.allclose.html"
      ],
      "metadata": {
        "id": "d5dbe_bwgvdp"
      },
      "id": "d5dbe_bwgvdp"
    },
    {
      "cell_type": "code",
      "source": [
        "print(\"Is A Hermitian?\", np.allclose(a_matrix, a_dag))"
      ],
      "metadata": {
        "colab": {
          "base_uri": "https://localhost:8080/"
        },
        "id": "OzNXiOccgadw",
        "outputId": "6505b1d0-a80b-4ab3-9dfe-68fcd6c1f3dc"
      },
      "id": "OzNXiOccgadw",
      "execution_count": 64,
      "outputs": [
        {
          "output_type": "stream",
          "name": "stdout",
          "text": [
            "Is A Hermitian? True\n"
          ]
        }
      ]
    },
    {
      "cell_type": "markdown",
      "source": [
        "### 2.  The expectation value $\\langle A \\rangle = \\langle \\Psi | \\hat{A} | \\Psi \\rangle$\n",
        "\n",
        "\n",
        "where:\n",
        "\n",
        "$$\n",
        "|\\Psi\\rangle = \\frac{1}{\\sqrt{2}} \\begin{pmatrix} 1 \\\\ i \\end{pmatrix},\n",
        "$$"
      ],
      "metadata": {
        "id": "d21NJqUbg_EY"
      },
      "id": "d21NJqUbg_EY"
    },
    {
      "cell_type": "code",
      "source": [
        "# Define psi\n",
        "\n",
        "psi_2 = np.array([[1.], [1.j]])/np.sqrt(2)\n",
        "\n",
        "print(psi_2)"
      ],
      "metadata": {
        "colab": {
          "base_uri": "https://localhost:8080/"
        },
        "id": "98pjSo0ug5JU",
        "outputId": "af208964-781e-4040-d650-7b2029323fc6"
      },
      "id": "98pjSo0ug5JU",
      "execution_count": 68,
      "outputs": [
        {
          "output_type": "stream",
          "name": "stdout",
          "text": [
            "[[0.70710678+0.j        ]\n",
            " [0.        +0.70710678j]]\n"
          ]
        }
      ]
    },
    {
      "cell_type": "code",
      "source": [
        "# Expectation values using vdot\n",
        "\n",
        "a_exp  = abs(np.vdot(psi_2, a_matrix @ psi_2))\n",
        "a_exp2 = abs(np.vdot(psi_2, a_matrix @ ( a_matrix @ psi_2)))\n",
        "\n",
        "print(\"Expectation value of A: \", round(a_exp, 5))\n",
        "print(\"\\n\")\n",
        "print(\"Expectation value of A^2: \", round(a_exp2, 5))"
      ],
      "metadata": {
        "colab": {
          "base_uri": "https://localhost:8080/"
        },
        "id": "eJEV4UqchbUH",
        "outputId": "8bf54e28-1257-4e87-dc1d-42fa9c54e7f9"
      },
      "id": "eJEV4UqchbUH",
      "execution_count": 75,
      "outputs": [
        {
          "output_type": "stream",
          "name": "stdout",
          "text": [
            "Expectation value of A:  2.0\n",
            "\n",
            "\n",
            "Expectation value of A^2:  9.0\n"
          ]
        }
      ]
    },
    {
      "cell_type": "markdown",
      "source": [
        "### 4.  The uncertainty:\n",
        "\n",
        " $\\sigma_A = \\sqrt{\\langle A^2 \\rangle - \\langle A \\rangle^2}$"
      ],
      "metadata": {
        "id": "TbzjZPzviUDJ"
      },
      "id": "TbzjZPzviUDJ"
    },
    {
      "cell_type": "code",
      "source": [
        "sigma_a = np.sqrt(a_exp2 - a_exp**2)\n",
        "\n",
        "print(\"Uncertainty in A: \", round(sigma_a, 5))"
      ],
      "metadata": {
        "colab": {
          "base_uri": "https://localhost:8080/"
        },
        "id": "M4kAl3jQh-gU",
        "outputId": "0d4b73d4-c50e-4c59-946a-f955bb5538f0"
      },
      "id": "M4kAl3jQh-gU",
      "execution_count": 76,
      "outputs": [
        {
          "output_type": "stream",
          "name": "stdout",
          "text": [
            "Uncertainty in A:  2.23607\n"
          ]
        }
      ]
    },
    {
      "cell_type": "markdown",
      "source": [
        "Imagine A is H:\n",
        "\n",
        "$\\sigma_A = \\Delta E$\n",
        "\n",
        "Energy-time uncertainty principle:\n",
        "\n",
        "$$\\Delta E\\,\\Delta t\\geq \\frac{\\hbar}{2}$$"
      ],
      "metadata": {
        "id": "CgsrBdR3i7kj"
      },
      "id": "CgsrBdR3i7kj"
    }
  ],
  "metadata": {
    "kernelspec": {
      "display_name": "Python 3 (ipykernel)",
      "language": "python",
      "name": "python3"
    },
    "language_info": {
      "codemirror_mode": {
        "name": "ipython",
        "version": 3
      },
      "file_extension": ".py",
      "mimetype": "text/x-python",
      "name": "python",
      "nbconvert_exporter": "python",
      "pygments_lexer": "ipython3",
      "version": "3.7.16"
    },
    "colab": {
      "provenance": [],
      "include_colab_link": true
    }
  },
  "nbformat": 4,
  "nbformat_minor": 5
}