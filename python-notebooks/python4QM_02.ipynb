{
  "nbformat": 4,
  "nbformat_minor": 0,
  "metadata": {
    "colab": {
      "provenance": [],
      "authorship_tag": "ABX9TyOm08qfxtB0stMwm8Ef98q7",
      "include_colab_link": true
    },
    "kernelspec": {
      "name": "python3",
      "display_name": "Python 3"
    },
    "language_info": {
      "name": "python"
    }
  },
  "cells": [
    {
      "cell_type": "markdown",
      "metadata": {
        "id": "view-in-github",
        "colab_type": "text"
      },
      "source": [
        "<a href=\"https://colab.research.google.com/github/wbandabarragan/quantum-mechanics-1/blob/main/python-notebooks/python4QM_02.ipynb\" target=\"_parent\"><img src=\"https://colab.research.google.com/assets/colab-badge.svg\" alt=\"Open In Colab\"/></a>"
      ]
    },
    {
      "cell_type": "markdown",
      "source": [
        "# Tutorial 2: Python for QM\n",
        "\n",
        "## 1. Statistical distributions\n",
        "\n",
        "Imagine a room containing fourteen people, whose ages are as follows: one person aged 14, one person aged 15, three people aged 16, two people aged 22, two people aged 24, five people aged 25.\n",
        "\n",
        "Consider that $j$ represents age:\n",
        "\n",
        "(a) Compute $<j>^2$ and $<j^2>$.\n",
        "\n",
        "(b) Compute the $\\sigma_j=\\sqrt{<j^2> - <j>^2}$\n",
        "\n",
        "(c) Compute the standard deviation and compare with (b)."
      ],
      "metadata": {
        "id": "O9Frv81rfzC-"
      }
    },
    {
      "cell_type": "markdown",
      "source": [
        "### (a) Compute $<j>^2$ and $<j^2>$."
      ],
      "metadata": {
        "id": "iM1w-GsXgdeY"
      }
    },
    {
      "cell_type": "code",
      "source": [
        "# Import libraries\n",
        "import numpy as np\n",
        "import matplotlib.pyplot as plt"
      ],
      "metadata": {
        "id": "5D_3KMrqgyX9"
      },
      "execution_count": 2,
      "outputs": []
    },
    {
      "cell_type": "code",
      "execution_count": 3,
      "metadata": {
        "colab": {
          "base_uri": "https://localhost:8080/"
        },
        "id": "WExdaUgwfxUM",
        "outputId": "b66f25b5-bce3-4135-f6c2-56e9b939c418"
      },
      "outputs": [
        {
          "output_type": "stream",
          "name": "stdout",
          "text": [
            "(14,)\n"
          ]
        }
      ],
      "source": [
        "# Generate the discrete sample\n",
        "st_sample = np.array([14, 15, 16, 16, 16, 22, 22, 24, 24, 25, 25, 25, 25, 25])\n",
        "\n",
        "print(st_sample.shape)"
      ]
    },
    {
      "cell_type": "code",
      "source": [
        "# Make a histogram\n",
        "plt.figure(figsize=(8,4))\n",
        "\n",
        "plt.hist(st_sample, bins = 10, histtype = \"bar\", color = \"green\", alpha = 0.5)\n",
        "\n",
        "plt.xlabel(r\"$j$\")\n",
        "plt.ylabel(r\"$N$\")\n",
        "\n",
        "plt.show()"
      ],
      "metadata": {
        "colab": {
          "base_uri": "https://localhost:8080/",
          "height": 392
        },
        "id": "6Cljc7I6gvnK",
        "outputId": "5f8f35d6-aa32-4362-d080-ceae4d9d872a"
      },
      "execution_count": 16,
      "outputs": [
        {
          "output_type": "display_data",
          "data": {
            "text/plain": [
              "<Figure size 800x400 with 1 Axes>"
            ],
            "image/png": "[encoded data removed]"
          },
          "metadata": {}
        }
      ]
    },
    {
      "cell_type": "code",
      "source": [
        "# Compute the mean\n",
        "av_st = np.mean(st_sample)\n",
        "\n",
        "# Compue the mean of squared\n",
        "av_st_2 = np.mean(st_sample**2)\n",
        "\n",
        "print(\"The average age <j> is: \", av_st)\n",
        "print(\"\\n\")\n",
        "print(\"The average squared <j>^2 is: \", av_st**2)\n",
        "print(\"\\n\")\n",
        "print(\"The average squared <j^2> is: \", av_st_2)"
      ],
      "metadata": {
        "colab": {
          "base_uri": "https://localhost:8080/"
        },
        "id": "vl57NLrkhEEV",
        "outputId": "1365ce55-899d-4a0d-c6d5-71b98c871620"
      },
      "execution_count": 21,
      "outputs": [
        {
          "output_type": "stream",
          "name": "stdout",
          "text": [
            "The average age <j> is:  21.0\n",
            "\n",
            "\n",
            "The average squared <j>^2 is:  441.0\n",
            "\n",
            "\n",
            "The average squared <j^2> is:  459.57142857142856\n"
          ]
        }
      ]
    },
    {
      "cell_type": "markdown",
      "source": [
        "(b) Compute the $\\sigma_j=\\sqrt{<j^2> - <j>^2}$"
      ],
      "metadata": {
        "id": "L1Hv6uCKidfC"
      }
    },
    {
      "cell_type": "code",
      "source": [
        "# Get sigma\n",
        "sigma_j = np.sqrt(av_st_2 - av_st**2)\n",
        "\n",
        "print(\"Sigma of j from the formula is: \",  sigma_j)"
      ],
      "metadata": {
        "colab": {
          "base_uri": "https://localhost:8080/"
        },
        "id": "ZXCCJzrDh6Qv",
        "outputId": "2a4289fe-d513-4bfb-8af4-7786ba4beb6a"
      },
      "execution_count": 22,
      "outputs": [
        {
          "output_type": "stream",
          "name": "stdout",
          "text": [
            "Sigma of j from the formula is:  4.309458036856672\n"
          ]
        }
      ]
    },
    {
      "cell_type": "markdown",
      "source": [
        "(c) Compute the standard deviation and compare with (b)."
      ],
      "metadata": {
        "id": "ARiST12Bi0Xn"
      }
    },
    {
      "cell_type": "code",
      "source": [
        "# Get sigma from np.std\n",
        "sigma_j_np = np.std(st_sample)\n",
        "\n",
        "print(\"Sigma of j from numpy is: \",  sigma_j_np)"
      ],
      "metadata": {
        "colab": {
          "base_uri": "https://localhost:8080/"
        },
        "id": "XTXw8LS1iwS0",
        "outputId": "cecc0478-1b96-4be1-edd5-00f979524c08"
      },
      "execution_count": 23,
      "outputs": [
        {
          "output_type": "stream",
          "name": "stdout",
          "text": [
            "Sigma of j from numpy is:  4.3094580368566735\n"
          ]
        }
      ]
    },
    {
      "cell_type": "code",
      "source": [],
      "metadata": {
        "id": "DGUapGb9i-S0"
      },
      "execution_count": null,
      "outputs": []
    }
  ]
}