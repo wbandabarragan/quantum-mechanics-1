{
  "nbformat": 4,
  "nbformat_minor": 0,
  "metadata": {
    "colab": {
      "provenance": [],
      "authorship_tag": "ABX9TyPdtDga61apyyV+iRlmxTSy",
      "include_colab_link": true
    },
    "kernelspec": {
      "name": "python3",
      "display_name": "Python 3"
    },
    "language_info": {
      "name": "python"
    }
  },
  "cells": [
    {
      "cell_type": "markdown",
      "metadata": {
        "id": "view-in-github",
        "colab_type": "text"
      },
      "source": [
        "<a href=\"https://colab.research.google.com/github/wbandabarragan/quantum-mechanics-1/blob/main/python-notebooks/python4QM_02.ipynb\" target=\"_parent\"><img src=\"https://colab.research.google.com/assets/colab-badge.svg\" alt=\"Open In Colab\"/></a>"
      ]
    },
    {
      "cell_type": "markdown",
      "source": [
        "# Tutorial 2: Python for QM\n",
        "\n",
        "## 1. Statistical distributions\n",
        "\n",
        "Imagine a room containing fourteen people, whose ages are as follows: one person aged 14, one person aged 15, three people aged 16, two people aged 22, two people aged 24, five people aged 25.\n",
        "\n",
        "Consider that $j$ represents age:\n",
        "\n",
        "(a) Compute $<j>^2$ and $<j^2>$.\n",
        "\n",
        "(b) Compute the $\\sigma_j=\\sqrt{<j^2> - <j>^2}$\n",
        "\n",
        "(c) Compute the standard deviation and compare with (b)."
      ],
      "metadata": {
        "id": "O9Frv81rfzC-"
      }
    },
    {
      "cell_type": "markdown",
      "source": [
        "### (a) Compute $<j>^2$ and $<j^2>$."
      ],
      "metadata": {
        "id": "iM1w-GsXgdeY"
      }
    },
    {
      "cell_type": "code",
      "source": [
        "# Import libraries\n",
        "import numpy as np\n",
        "import matplotlib.pyplot as plt"
      ],
      "metadata": {
        "id": "5D_3KMrqgyX9"
      },
      "execution_count": 3,
      "outputs": []
    },
    {
      "cell_type": "code",
      "execution_count": 4,
      "metadata": {
        "colab": {
          "base_uri": "https://localhost:8080/"
        },
        "id": "WExdaUgwfxUM",
        "outputId": "4b490670-36f1-419c-beba-e83d19b2e4ef"
      },
      "outputs": [
        {
          "output_type": "stream",
          "name": "stdout",
          "text": [
            "(14,)\n"
          ]
        }
      ],
      "source": [
        "# Generate the discrete sample\n",
        "st_sample = np.array([14, 15, 16, 16, 16, 22, 22, 24, 24, 25, 25, 25, 25, 25])\n",
        "\n",
        "print(st_sample.shape)"
      ]
    },
    {
      "cell_type": "code",
      "source": [
        "# Make a histogram\n",
        "plt.figure(figsize=(8,4))\n",
        "\n",
        "plt.hist(st_sample, bins = 10, histtype = \"bar\", color = \"green\", alpha = 0.5)\n",
        "\n",
        "plt.xlabel(r\"$j$\")\n",
        "plt.ylabel(r\"$N$\")\n",
        "\n",
        "plt.show()"
      ],
      "metadata": {
        "colab": {
          "base_uri": "https://localhost:8080/",
          "height": 392
        },
        "id": "6Cljc7I6gvnK",
        "outputId": "9f8db831-8663-4a44-f3d0-0e2c53a10cb9"
      },
      "execution_count": 5,
      "outputs": [
        {
          "output_type": "display_data",
          "data": {
            "text/plain": [
              "<Figure size 800x400 with 1 Axes>"
            ],
            "image/png": "[encoded data removed]"
          },
          "metadata": {}
        }
      ]
    },
    {
      "cell_type": "code",
      "source": [
        "# Compute the mean\n",
        "av_st = np.mean(st_sample)\n",
        "\n",
        "# Compue the mean of squared\n",
        "av_st_2 = np.mean(st_sample**2)\n",
        "\n",
        "print(\"The average age <j> is: \", av_st)\n",
        "print(\"\\n\")\n",
        "print(\"The average squared <j>^2 is: \", av_st**2)\n",
        "print(\"\\n\")\n",
        "print(\"The average squared <j^2> is: \", av_st_2)"
      ],
      "metadata": {
        "colab": {
          "base_uri": "https://localhost:8080/"
        },
        "id": "vl57NLrkhEEV",
        "outputId": "89e82b0a-5960-4043-cb23-21712a2990da"
      },
      "execution_count": 7,
      "outputs": [
        {
          "output_type": "stream",
          "name": "stdout",
          "text": [
            "The average age <j> is:  21.0\n",
            "\n",
            "\n",
            "The average squared <j>^2 is:  441.0\n",
            "\n",
            "\n",
            "The average squared <j^2> is:  459.57142857142856\n"
          ]
        }
      ]
    },
    {
      "cell_type": "markdown",
      "source": [
        "(b) Compute the $\\sigma_j=\\sqrt{<j^2> - <j>^2}$"
      ],
      "metadata": {
        "id": "L1Hv6uCKidfC"
      }
    },
    {
      "cell_type": "code",
      "source": [
        "# Get sigma\n",
        "sigma_j = np.sqrt(av_st_2 - av_st**2)\n",
        "\n",
        "print(\"Sigma of j from the formula is: \",  sigma_j)"
      ],
      "metadata": {
        "colab": {
          "base_uri": "https://localhost:8080/"
        },
        "id": "ZXCCJzrDh6Qv",
        "outputId": "180bb2dd-6042-4989-c594-8a837d449282"
      },
      "execution_count": 8,
      "outputs": [
        {
          "output_type": "stream",
          "name": "stdout",
          "text": [
            "Sigma of j from the formula is:  4.309458036856672\n"
          ]
        }
      ]
    },
    {
      "cell_type": "markdown",
      "source": [
        "(c) Compute the standard deviation and compare with (b)."
      ],
      "metadata": {
        "id": "ARiST12Bi0Xn"
      }
    },
    {
      "cell_type": "code",
      "source": [
        "# Get sigma from np.std\n",
        "sigma_j_np = np.std(st_sample)\n",
        "\n",
        "print(\"Sigma of j from numpy is: \",  sigma_j_np)"
      ],
      "metadata": {
        "colab": {
          "base_uri": "https://localhost:8080/"
        },
        "id": "XTXw8LS1iwS0",
        "outputId": "87be6c2a-c804-4263-cebc-dfe04b0be32d"
      },
      "execution_count": 9,
      "outputs": [
        {
          "output_type": "stream",
          "name": "stdout",
          "text": [
            "Sigma of j from numpy is:  4.3094580368566735\n"
          ]
        }
      ]
    },
    {
      "cell_type": "markdown",
      "source": [
        "## 2. Normal distribution\n",
        "\n",
        "$$N(\\mu, \\sigma)$$"
      ],
      "metadata": {
        "id": "FdI6rPvGyU24"
      }
    },
    {
      "cell_type": "code",
      "source": [
        "# Fix the parameters\n",
        "mu_1 = 0. # Mean\n",
        "sigma_1 = 0.1 # Standard Deviation\n",
        "\n",
        "# Normally distributed values\n",
        "n_1 = np.random.normal(mu_1, sigma_1, 100000)\n",
        "\n",
        "print(n_1.shape)\n"
      ],
      "metadata": {
        "id": "DGUapGb9i-S0",
        "colab": {
          "base_uri": "https://localhost:8080/"
        },
        "outputId": "4757cbf8-d858-49ce-b97e-d750b9bb9319"
      },
      "execution_count": 12,
      "outputs": [
        {
          "output_type": "stream",
          "name": "stdout",
          "text": [
            "(100000,)\n"
          ]
        }
      ]
    },
    {
      "cell_type": "code",
      "source": [
        "# Make a unnormalised histogram\n",
        "plt.figure(figsize=(8,4))\n",
        "\n",
        "plt.hist(n_1, bins = 500, color = \"green\", histtype = \"bar\", alpha = 0.6)\n",
        "\n",
        "plt.show()"
      ],
      "metadata": {
        "colab": {
          "base_uri": "https://localhost:8080/",
          "height": 368
        },
        "id": "4Ueua3dczDC_",
        "outputId": "533852af-a396-4c81-b0db-0b3729da7dbf"
      },
      "execution_count": 24,
      "outputs": [
        {
          "output_type": "display_data",
          "data": {
            "text/plain": [
              "<Figure size 800x400 with 1 Axes>"
            ],
            "image/png": "[encoded data removed]"
          },
          "metadata": {}
        }
      ]
    },
    {
      "cell_type": "code",
      "source": [
        "# Make a PDF\n",
        "plt.figure(figsize=(8,4))\n",
        "\n",
        "plt.hist(n_1, bins = 500, color = \"green\", histtype = \"bar\", alpha = 0.6, density = True)\n",
        "\n",
        "plt.xlabel(r\"$j$\")\n",
        "plt.ylabel(r\"$N$\")\n",
        "\n",
        "plt.show()"
      ],
      "metadata": {
        "colab": {
          "base_uri": "https://localhost:8080/",
          "height": 392
        },
        "id": "6npEJIeAzLtR",
        "outputId": "00998718-0d4c-41a4-9ee7-e1e97ae987f2"
      },
      "execution_count": 29,
      "outputs": [
        {
          "output_type": "display_data",
          "data": {
            "text/plain": [
              "<Figure size 800x400 with 1 Axes>"
            ],
            "image/png": "[encoded data removed]"
          },
          "metadata": {}
        }
      ]
    },
    {
      "cell_type": "code",
      "source": [
        "# Calculate the mean/std\n",
        "av_n1 = np.mean(n_1)\n",
        "st_n1 = np.std(n_1)\n",
        "\n",
        "print(\"Average: \", av_n1)\n",
        "print(\"St. Dev.: \", st_n1)"
      ],
      "metadata": {
        "colab": {
          "base_uri": "https://localhost:8080/"
        },
        "id": "-8TzkvRZz6BR",
        "outputId": "c940eb6e-99aa-44f8-cb70-4d44745f3688"
      },
      "execution_count": 35,
      "outputs": [
        {
          "output_type": "stream",
          "name": "stdout",
          "text": [
            "Average:  0.00032418439108473213\n",
            "St. Dev.:  0.0999565625667311\n"
          ]
        }
      ]
    },
    {
      "cell_type": "markdown",
      "source": [
        "## 3. Log-Normal Distribution:\n"
      ],
      "metadata": {
        "id": "dKg0QW4p1rBf"
      }
    },
    {
      "cell_type": "code",
      "source": [
        "# Option 1: To get a lognormal distro, we can exponentiate a normal distro.\n",
        "ln_1 = np.exp(n_1)"
      ],
      "metadata": {
        "id": "0vjU0A440TFQ"
      },
      "execution_count": 38,
      "outputs": []
    },
    {
      "cell_type": "code",
      "source": [
        "# Make a PDF\n",
        "plt.figure(figsize=(8,4))\n",
        "\n",
        "plt.hist(ln_1, bins = 500, color = \"pink\", histtype = \"bar\", alpha = 0.6, density = True)\n",
        "\n",
        "plt.xlabel(r\"$j$\")\n",
        "plt.ylabel(r\"$N$\")\n",
        "\n",
        "plt.show()"
      ],
      "metadata": {
        "colab": {
          "base_uri": "https://localhost:8080/",
          "height": 392
        },
        "id": "6Dx4J5mE10QL",
        "outputId": "04931d8c-f52c-41ec-9328-dbf40e1f728b"
      },
      "execution_count": 40,
      "outputs": [
        {
          "output_type": "display_data",
          "data": {
            "text/plain": [
              "<Figure size 800x400 with 1 Axes>"
            ],
            "image/png": "[encoded data removed]"
          },
          "metadata": {}
        }
      ]
    },
    {
      "cell_type": "code",
      "source": [
        "# Option 2: To get a log-normal distro, we can use NumPy\n",
        "\n",
        "# Fix the parameters\n",
        "mu_2 = 0. # Mean\n",
        "sigma_2 = 0.6 # Standard Deviation\n",
        "\n",
        "# Normally distributed values\n",
        "ln_2 = np.random.lognormal(mu_2, sigma_2, 100000)\n",
        "\n",
        "print(ln_2.shape)\n"
      ],
      "metadata": {
        "colab": {
          "base_uri": "https://localhost:8080/"
        },
        "id": "3CJysXjn12U_",
        "outputId": "9d35350e-bcd1-43b3-ef32-25ae88af08f7"
      },
      "execution_count": 53,
      "outputs": [
        {
          "output_type": "stream",
          "name": "stdout",
          "text": [
            "(100000,)\n"
          ]
        }
      ]
    },
    {
      "cell_type": "code",
      "source": [
        "# Make a PDF\n",
        "plt.figure(figsize=(8,4))\n",
        "\n",
        "plt.hist(ln_2, bins = 500, color = \"blue\", histtype = \"bar\", alpha = 0.6, density = True)\n",
        "\n",
        "plt.xlabel(r\"$j$\")\n",
        "plt.ylabel(r\"$N$\")\n",
        "\n",
        "plt.show()"
      ],
      "metadata": {
        "colab": {
          "base_uri": "https://localhost:8080/",
          "height": 392
        },
        "id": "pHmzskQi2VTL",
        "outputId": "b16c4fb4-dd98-45fb-beea-a6a1c2066d20"
      },
      "execution_count": 55,
      "outputs": [
        {
          "output_type": "display_data",
          "data": {
            "text/plain": [
              "<Figure size 800x400 with 1 Axes>"
            ],
            "image/png": "[encoded data removed]"
          },
          "metadata": {}
        }
      ]
    }
  ]
}