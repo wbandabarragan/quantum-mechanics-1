{
  "nbformat": 4,
  "nbformat_minor": 0,
  "metadata": {
    "colab": {
      "provenance": [],
      "include_colab_link": true
    },
    "kernelspec": {
      "name": "python3",
      "display_name": "Python 3"
    },
    "language_info": {
      "name": "python"
    }
  },
  "cells": [
    {
      "cell_type": "markdown",
      "metadata": {
        "id": "view-in-github",
        "colab_type": "text"
      },
      "source": [
        "<a href=\"https://colab.research.google.com/github/wbandabarragan/quantum-mechanics-1/blob/main/python-notebooks/python4QM_04.ipynb\" target=\"_parent\"><img src=\"https://colab.research.google.com/assets/colab-badge.svg\" alt=\"Open In Colab\"/></a>"
      ]
    },
    {
      "cell_type": "markdown",
      "source": [
        "# Tutorial 4: Python for Quantum Mechanics\n",
        "\n",
        "## **1. Gaussian distributions:**\n",
        "\n",
        "Consider the Gaussian distribution:\n",
        "\n",
        "$\\rho(x) = A\\,e^{−\\lambda\\,(x−a)^2}$\n",
        "\n",
        "where: $A = \\sqrt{\\frac{\\lambda}{\\pi}}$, $a$, $\\lambda$ are positive real constants.\n",
        "\n",
        "Sketch $\\rho(x)$ versus $x$ for different values of $A$, $a$ and $\\lambda$."
      ],
      "metadata": {
        "id": "D2jbBIP2QOs6"
      }
    },
    {
      "cell_type": "markdown",
      "source": [
        "## **2. Piece-wise Wavefunctions:**\n",
        "\n",
        "Sketch the following $\\Psi(x)$ at $t=0$ (Problem 1.4 in Griffiths):\n",
        "\n",
        "$$\\Psi(x,0)=\\left\\{\n",
        "\\begin{array}{ll}\n",
        "      A(x/a) & 0 \\leq x \\leq a \\\\\n",
        "      A(b-x)/(b-a) & a \\leq x \\leq b \\\\\n",
        "      0 & \\rm otherwise \\\\\n",
        "\\end{array}\n",
        "\\right. $$\n",
        "\n",
        "\n"
      ],
      "metadata": {
        "id": "rpsC443RTI4l"
      }
    },
    {
      "cell_type": "markdown",
      "source": [
        "## **3. Time-dependent Wavefunction:**\n",
        "\n",
        "Consider the wave function (Problem 1.5 in Griffiths):\n",
        "\n",
        "$\\Psi(x,t) = A\\,e^{-\\lambda|\\,x|}\\,e^{-i\\omega t}$\n",
        "\n",
        "where $A=\\sqrt{\\lambda}$, $\\lambda$, and $\\omega$ are positive real constants.\n",
        "\n",
        "Sketch $|\\Psi|^2$ versus $x$ for $\\lambda$ different values, and different times."
      ],
      "metadata": {
        "id": "RdgvyqK-UkYZ"
      }
    },
    {
      "cell_type": "markdown",
      "source": [
        "## **4. 1D Gaussian wavepacket**\n",
        "\n",
        "$$\\psi(x) = A\\,e^{-\\frac{x^2}{2\\sigma^2}}\\sin(kx)$$"
      ],
      "metadata": {
        "id": "5CxY8nCYWSoW"
      }
    },
    {
      "cell_type": "markdown",
      "source": [
        "### Moving wave packet:\n",
        "\n",
        "$$\\psi(x,t) = A\\,e^{-\\frac{(x - t)^2}{2\\sigma^2}}\\sin(kx - \\omega t)$$"
      ],
      "metadata": {
        "id": "296zUzG8-jtS"
      }
    },
    {
      "cell_type": "markdown",
      "source": [
        "### Animating our wave packet:"
      ],
      "metadata": {
        "id": "9tmZ9j9OB252"
      }
    },
    {
      "cell_type": "markdown",
      "source": [
        "## **5. 2D Gaussian function**\n",
        "\n",
        "$$f(x,y) = \\frac{1}{2\\pi\\sigma_x\\sigma_y} \\exp\\left(-\\left(\\frac{(x - x_0)^2}{2\\sigma_X^2} + \\frac{(y - y_0)^2}{2\\sigma_Y^2} \\right)\\right).$$"
      ],
      "metadata": {
        "id": "tp4ZY3o5VLLs"
      }
    },
    {
      "cell_type": "markdown",
      "source": [
        "$$f(x,y) = \\frac{1}{2\\pi\\sigma_x\\sigma_y} \\exp\\left(-\\left(\\frac{(x - x_0)^2}{2\\sigma_X^2} + \\frac{(y - y_0)^2}{2\\sigma_Y^2} \\right)\\right).\\cos(kx)\\cos(ky)$$"
      ],
      "metadata": {
        "id": "QZ67Khs9FTCR"
      }
    },
    {
      "cell_type": "markdown",
      "source": [
        "## PDF plot:"
      ],
      "metadata": {
        "id": "EP3GbFuEeXae"
      }
    },
    {
      "cell_type": "code",
      "source": [],
      "metadata": {
        "id": "rc9bEuj8JZxb"
      },
      "execution_count": null,
      "outputs": []
    }
  ]
}