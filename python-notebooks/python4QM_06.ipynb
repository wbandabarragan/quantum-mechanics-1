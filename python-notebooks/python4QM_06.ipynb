{
  "nbformat": 4,
  "nbformat_minor": 0,
  "metadata": {
    "colab": {
      "provenance": [],
      "authorship_tag": "ABX9TyMv4JEiCtisidgKQ6djwWaW",
      "include_colab_link": true
    },
    "kernelspec": {
      "name": "python3",
      "display_name": "Python 3"
    },
    "language_info": {
      "name": "python"
    }
  },
  "cells": [
    {
      "cell_type": "markdown",
      "metadata": {
        "id": "view-in-github",
        "colab_type": "text"
      },
      "source": [
        "<a href=\"https://colab.research.google.com/github/wbandabarragan/quantum-mechanics-1/blob/main/python-notebooks/python4QM_06.ipynb\" target=\"_parent\"><img src=\"https://colab.research.google.com/assets/colab-badge.svg\" alt=\"Open In Colab\"/></a>"
      ]
    },
    {
      "cell_type": "markdown",
      "source": [
        "# Tutorial 6: Python for Quantum Mechanics\n",
        "\n",
        "## Finite square well potential:\n",
        "\n",
        "In class, we studied the finite square well potential problem. When looking into the even solutions and applying boundary conditions, we found a transcendental equation for $z=la$:\n",
        "\n",
        "$\\tan(z) = \\sqrt{\\left(\\frac{z_0}{z}\\right)^2 - 1}$\n",
        "\n",
        "where $a$ is the half-width of the potential $V(x)=-V_0$ between $x=-a$ and $x=+a$:\n",
        "\n",
        "$z_0 = \\frac{a}{\\hbar}\\sqrt{2\\,m\\,V_0}$,\n",
        "\n",
        "andthe wavenumber inside the well is:\n",
        "\n",
        "$l = \\frac{\\sqrt{2\\,m(E+V_0)}}{\\hbar}$\n",
        "\n",
        "\n",
        "**Task: Solve the above transcendetal equation using python optimisation tools and display the results for several $z_0$.**"
      ],
      "metadata": {
        "id": "2CyFihRpIMR3"
      }
    },
    {
      "cell_type": "code",
      "execution_count": null,
      "metadata": {
        "id": "avIp8z4eILFi"
      },
      "outputs": [],
      "source": []
    }
  ]
}