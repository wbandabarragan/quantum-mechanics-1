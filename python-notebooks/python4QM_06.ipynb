{
  "nbformat": 4,
  "nbformat_minor": 0,
  "metadata": {
    "colab": {
      "provenance": [],
      "authorship_tag": "ABX9TyPkw2Olw/1UJBx6UCEEH/Zm",
      "include_colab_link": true
    },
    "kernelspec": {
      "name": "python3",
      "display_name": "Python 3"
    },
    "language_info": {
      "name": "python"
    }
  },
  "cells": [
    {
      "cell_type": "markdown",
      "metadata": {
        "id": "view-in-github",
        "colab_type": "text"
      },
      "source": [
        "<a href=\"https://colab.research.google.com/github/wbandabarragan/quantum-mechanics-1/blob/main/python-notebooks/python4QM_06.ipynb\" target=\"_parent\"><img src=\"https://colab.research.google.com/assets/colab-badge.svg\" alt=\"Open In Colab\"/></a>"
      ]
    },
    {
      "cell_type": "markdown",
      "source": [
        "# Tutorial 6: Python for Quantum Mechanics\n",
        "\n",
        "## Finite square well potential:\n",
        "\n",
        "In class, we studied the finite square well potential problem. When looking into the even solutions and applying boundary conditions, we found a transcendental equation for $z=la$:\n",
        "\n",
        "$\\tan(z) = \\sqrt{\\left(\\frac{z_0}{z}\\right)^2 - 1}$\n",
        "\n",
        "where $a$ is the half-width of the potential $V(x)=-V_0$ between $x=-a$ and $x=+a$:\n",
        "\n",
        "$z_0 = \\frac{a}{\\hbar}\\sqrt{2\\,m\\,V_0}$,\n",
        "\n",
        "andthe wavenumber inside the well is:\n",
        "\n",
        "$l = \\frac{\\sqrt{2\\,m(E+V_0)}}{\\hbar}$\n",
        "\n",
        "\n",
        "**Task: Solve the above transcendetal equation using python optimisation tools and display the results for several $z_0$.**"
      ],
      "metadata": {
        "id": "2CyFihRpIMR3"
      }
    },
    {
      "cell_type": "markdown",
      "source": [
        "### 1. Graphical Solution:\n",
        "\n",
        "Make plots of the two functions:\n",
        "\n",
        "$\\tan(z)$\n",
        "\n",
        "$\\sqrt{\\left(\\frac{z_0}{z}\\right)^2 - 1}$"
      ],
      "metadata": {
        "id": "HSlC1crOKQ3B"
      }
    },
    {
      "cell_type": "code",
      "execution_count": 54,
      "metadata": {
        "id": "avIp8z4eILFi"
      },
      "outputs": [],
      "source": [
        "# Import libraries\n",
        "import numpy as np\n",
        "import matplotlib.pyplot as plt"
      ]
    },
    {
      "cell_type": "code",
      "source": [
        "# Fix the value of the z_0 constant\n",
        "z0 = 8\n",
        "\n",
        "# Vector for z\n",
        "z = np.arange(0., 10*np.pi, 0.001)\n"
      ],
      "metadata": {
        "id": "6fFDI2ZaKbQA"
      },
      "execution_count": 55,
      "outputs": []
    },
    {
      "cell_type": "code",
      "source": [
        "# Tangent\n",
        "y_lhs = np.tan(z)\n",
        "\n",
        "# Sqrt\n",
        "y_rhs = np.sqrt((z0**2/z**2) - 1.)"
      ],
      "metadata": {
        "colab": {
          "base_uri": "https://localhost:8080/"
        },
        "id": "JGBbxN0ILKNH",
        "outputId": "d6f240cd-efef-4319-da81-57ae3126da4a"
      },
      "execution_count": 56,
      "outputs": [
        {
          "output_type": "stream",
          "name": "stderr",
          "text": [
            "/tmp/ipython-input-197324765.py:5: RuntimeWarning: divide by zero encountered in divide\n",
            "  y_rhs = np.sqrt((z0**2/z**2) - 1.)\n",
            "/tmp/ipython-input-197324765.py:5: RuntimeWarning: invalid value encountered in sqrt\n",
            "  y_rhs = np.sqrt((z0**2/z**2) - 1.)\n"
          ]
        }
      ]
    },
    {
      "cell_type": "code",
      "source": [
        "# Remove the large values from the tangent\n",
        "y_lhs[y_lhs > +4*z0] = np.nan # nan -> not a number\n",
        "y_lhs[y_lhs < -4*z0] = np.nan"
      ],
      "metadata": {
        "id": "JRAjOEk5L3ux"
      },
      "execution_count": 57,
      "outputs": []
    },
    {
      "cell_type": "code",
      "source": [
        "# Plotting\n",
        "\n",
        "plt.figure(figsize=(12, 3))\n",
        "\n",
        "plt.plot(z, y_lhs)\n",
        "plt.plot(z, y_rhs)\n",
        "\n",
        "plt.xlabel(r\"$z$\")\n",
        "\n",
        "plt.xlim(0, 1.2*z0)\n",
        "plt.ylim(0, 3*z0)\n",
        "\n",
        "plt.show()"
      ],
      "metadata": {
        "colab": {
          "base_uri": "https://localhost:8080/",
          "height": 258
        },
        "id": "uvMEVSBkLe8b",
        "outputId": "f1185264-dc22-4fbb-91a9-2d2d95fe5f89"
      },
      "execution_count": 58,
      "outputs": [
        {
          "output_type": "display_data",
          "data": {
            "text/plain": [
              "<Figure size 1200x300 with 1 Axes>"
            ],
            "image/png": "[encoded data removed]"
          },
          "metadata": {}
        }
      ]
    },
    {
      "cell_type": "markdown",
      "source": [
        "### 2. Numerical Solution:\n",
        "\n",
        "We need to create a functional:\n",
        "\n",
        "$\\tan(z) = \\sqrt{\\left(\\frac{z_0}{z}\\right)^2 - 1}$\n",
        "\n",
        "Next step:\n",
        "\n",
        "$\\frac{\\tan(z)}{\\sqrt{\\left(\\frac{z_0}{z}\\right)^2 - 1}} = 1$\n",
        "\n",
        "\n",
        "$G(z)=\\frac{\\tan(z)}{\\sqrt{\\left(\\frac{z_0}{z}\\right)^2 - 1}} -1 = 0$\n",
        "\n",
        "We have turned our problem into an optimisation problem.\n"
      ],
      "metadata": {
        "id": "tDDO1T31NZlO"
      }
    },
    {
      "cell_type": "code",
      "source": [
        "# Objective function\n",
        "\n",
        "def obj_func(z, z0):\n",
        "  \"\"\"\n",
        "  Objective function.\n",
        "  \"\"\"\n",
        "  # Function itself\n",
        "  opt_func = np.tan(z)/(np.sqrt((z0**2/z**2)-1.))-1.\n",
        "\n",
        "  return opt_func"
      ],
      "metadata": {
        "id": "AXt0P734Lp0E"
      },
      "execution_count": 59,
      "outputs": []
    },
    {
      "cell_type": "code",
      "source": [
        "# Optimisation routines\n",
        "\n",
        "import scipy.optimize as opt"
      ],
      "metadata": {
        "id": "nqHpsj4bO6cE"
      },
      "execution_count": 60,
      "outputs": []
    },
    {
      "cell_type": "code",
      "source": [
        "# Optimisation step: We find to find the z value for which G(z)=0\n",
        "\n",
        "result = opt.root(obj_func, [1., 4., 7.], args = z0)"
      ],
      "metadata": {
        "id": "sZWEHKDPOu24"
      },
      "execution_count": 61,
      "outputs": []
    },
    {
      "cell_type": "code",
      "source": [
        "# Display the solution\n",
        "\n",
        "print(result.x)"
      ],
      "metadata": {
        "colab": {
          "base_uri": "https://localhost:8080/"
        },
        "id": "vwOdTtvCPlE0",
        "outputId": "ee684bdd-6f46-46f7-cdbb-058b5e7f1b44"
      },
      "execution_count": 62,
      "outputs": [
        {
          "output_type": "stream",
          "name": "stdout",
          "text": [
            "[1.39546614 4.16483091 6.83067433]\n"
          ]
        }
      ]
    },
    {
      "cell_type": "code",
      "source": [
        "# Evaluate these points\n",
        "y0 = np.tan(result.x[0])\n",
        "y1 = np.tan(result.x[1])\n",
        "y2 = np.tan(result.x[2])"
      ],
      "metadata": {
        "id": "S1zR1k1gPvK3"
      },
      "execution_count": 63,
      "outputs": []
    },
    {
      "cell_type": "code",
      "source": [
        "# Plotting\n",
        "\n",
        "plt.figure(figsize=(12, 3))\n",
        "\n",
        "plt.plot(z, y_lhs)\n",
        "plt.plot(z, y_rhs)\n",
        "\n",
        "plt.xlabel(r\"$z$\")\n",
        "\n",
        "# Solutions\n",
        "plt.plot(result.x[0], y0, marker = \"o\", c = \"green\")\n",
        "plt.plot(result.x[1], y1, marker = \"o\", c = \"green\")\n",
        "plt.plot(result.x[2], y2, marker = \"o\", c = \"green\")\n",
        "\n",
        "plt.xlim(0, 1.2*z0)\n",
        "plt.ylim(0, 3*z0)\n",
        "plt.grid()\n",
        "plt.show()"
      ],
      "metadata": {
        "colab": {
          "base_uri": "https://localhost:8080/",
          "height": 258
        },
        "id": "F_HEkjshQEW6",
        "outputId": "89edd5ff-925f-4bda-f28f-cd567d94f297"
      },
      "execution_count": 64,
      "outputs": [
        {
          "output_type": "display_data",
          "data": {
            "text/plain": [
              "<Figure size 1200x300 with 1 Axes>"
            ],
            "image/png": "[encoded data removed]"
          },
          "metadata": {}
        }
      ]
    }
  ]
}